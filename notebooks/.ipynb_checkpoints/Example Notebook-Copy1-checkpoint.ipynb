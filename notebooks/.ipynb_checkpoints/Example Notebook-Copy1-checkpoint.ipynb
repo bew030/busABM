{
 "cells": [
  {
   "cell_type": "markdown",
   "metadata": {},
   "source": [
    "The following is the necessary imports needed for this example notebook"
   ]
  },
  {
   "cell_type": "code",
   "execution_count": 1,
   "metadata": {},
   "outputs": [],
   "source": [
    "import numpy as np\n",
    "import random\n",
    "from matplotlib import pyplot, colors\n",
    "from mesa import Model, Agent\n",
    "from mesa.time import RandomActivation\n",
    "from mesa.space import SingleGrid\n",
    "from mesa.datacollection import DataCollector\n",
    "from numpy.random import choice\n",
    "\n",
    "# mesa imports\n",
    "from mesa_geo import GeoAgent, GeoSpace\n",
    "from mesa.time import BaseScheduler\n",
    "from mesa import datacollection\n",
    "from mesa import Model\n",
    "\n",
    "# shapely imports\n",
    "from shapely.geometry import Polygon, Point, LineString\n",
    "import shapely\n",
    "\n",
    "# data analysis imports\n",
    "import geopandas as gpd\n",
    "import pandas as pd\n",
    "import numpy as np\n",
    "\n",
    "# plotting imports\n",
    "import matplotlib as plt\n",
    "\n",
    "from PIL import Image\n",
    "import glob\n",
    "import os\n",
    "\n",
    "import re\n"
   ]
  },
  {
   "cell_type": "markdown",
   "metadata": {},
   "source": [
    "# INTRODUCTION"
   ]
  },
  {
   "cell_type": "markdown",
   "metadata": {},
   "source": [
    "This code is the beginning of our process of simulating our research paper (https://jamanetwork.com/journals/jamainternalmedicine/fullarticle/2770172). By using example code from the mesa Github provided by our mentor group, we were able to create a bus environment with stagnant bus drivers and include parameters that represent the breathing/coughing/sneezing condition as well as passing on infections. The environment can be modified by changing column conditions (number of columns on the left side, right side, and in the middle), changing row conditions (number of rows), and changing the distance between seats. "
   ]
  },
  {
   "cell_type": "markdown",
   "metadata": {},
   "source": [
    "The first item that we had to create was the code for modeling the agents (or passengers) within the bus."
   ]
  },
  {
   "cell_type": "code",
   "execution_count": 309,
   "metadata": {},
   "outputs": [],
   "source": [
    "class busAgent(GeoAgent):\n",
    "    '''\n",
    "    This class is a representation of the agents within the bus AKA the bus passengers. Each passenger has a \n",
    "    unique ID, is placed in a specific model (or bus environment), and has a shape or location within the bus \n",
    "    environment. Along with that, each agent has an infected parameter that is false by default.\n",
    "    There are a few conditions that are currently preset:\n",
    "    - airborneProb: airborne probability is the probability that the user breathes, coughs, or sneezes. We \n",
    "    have it set at 50% for breathing, 30% for coughing, and 20% for sneezing, but in the future we hope to allow \n",
    "    these parameters to be changed based on user inputs. \n",
    "    - draw: this is part of the step function and essentially selects which neighbors can be potentially infected. \n",
    "    We decided to make breathing affect any neighbors 1 foot away, coughing affect any neighbors 2 feet away, and \n",
    "    sneezing affect any neighbors 6 feet away. This is based off of the research and papers that we found.\n",
    "    '''\n",
    "    def __init__(self, unique_id, model, shape):\n",
    "        super().__init__(unique_id, model, shape)\n",
    "        self.infected = False\n",
    "        self.airborneProb = [.5,.3,.2]\n",
    "        \n",
    "    def step(self):\n",
    "        draw = choice([1,3,6],1,p=self.airborneProb)[0]\n",
    "        if (self.infected == True):\n",
    "            self.__infect(draw)\n",
    "    \n",
    "    def __infect(self, infect_dist):\n",
    "        neighbors = self.model.grid.get_neighbors_within_distance(self, infect_dist)\n",
    "        for neighbor in neighbors:\n",
    "            if neighbor.unique_id != self.unique_id:\n",
    "                if (neighbor.infected == False):\n",
    "                    infected_bool = choice([True,False], p = [.05,.95])\n",
    "                    neighbor.infected = infected_bool"
   ]
  },
  {
   "cell_type": "code",
   "execution_count": 37,
   "metadata": {},
   "outputs": [],
   "source": [
    "class busAgent(GeoAgent):\n",
    "    def __init__(self, unique_id, breath_prob, cough_prob, sneeze_prob, breath_dist, cough_dist, \n",
    "                 sneeze_dist, prob_infected, model, shape):\n",
    "        super().__init__(unique_id, model, shape)\n",
    "        self.infected = False\n",
    "        self.airborneProb = [breath_prob, cough_prob, sneeze_prob]\n",
    "        self.distanceAffected = [breath_dist, cough_dist, sneeze_dist]\n",
    "        self.probInfected = [prob_infected,1-prob_infected]\n",
    "        \n",
    "    def step(self):\n",
    "        draw = choice(self.distanceAffected,1,p=self.airborneProb)[0]\n",
    "        if (self.infected == True):\n",
    "            self.__infect(draw)\n",
    "    \n",
    "    def __infect(self, infect_dist):\n",
    "        neighbors = self.model.grid.get_neighbors_within_distance(self, infect_dist)\n",
    "        for neighbor in neighbors:\n",
    "            if neighbor.unique_id != self.unique_id:\n",
    "                if (neighbor.infected == False):\n",
    "                    infected_bool = choice([True,False], p = self.probInfected)\n",
    "                    neighbor.infected = infected_bool\n",
    "                    \n",
    "    def set_id(self,unique_id):\n",
    "        self.unique_id = unique_id\n",
    "    \n",
    "    def set_shape(self, shape): \n",
    "        self.shape = shape\n",
    "    \n",
    "    def set_model(self, model):\n",
    "        self.model = model"
   ]
  },
  {
   "cell_type": "code",
   "execution_count": 53,
   "metadata": {},
   "outputs": [],
   "source": [
    "unique_id = \"na0\"\n",
    "model = None # we will get back to this later, current we do not have a model\n",
    "shape = Point(0,0)\n",
    "a = busAgent(unique_id, .5, .3, .1, 1, 2, 6, .05, model, shape)"
   ]
  },
  {
   "cell_type": "markdown",
   "metadata": {},
   "source": [
    "Following that, we had to create a class for the environment and the model itself."
   ]
  },
  {
   "cell_type": "code",
   "execution_count": null,
   "metadata": {},
   "outputs": [],
   "source": [
    "class NaiveModel(Model):\n",
    "    '''\n",
    "    this class represents the environment that the agents are present in, and the steps are the steps in the \n",
    "    agent based model. There are a few parameters that are included in this class:\n",
    "    - agent_class: this is basically what the agent is, which in our case is the busAgent that we created earlier\n",
    "    - dim_bus: these are the dimensions of the bus. the format is a list: [num_left_columns, num_middle_columns, \n",
    "    num right_columns, num_rows]. There will not be passengers in the middle column; this is simply to provide \n",
    "    some area between passengers (which is realistic amongst the bus).\n",
    "    - distance_seats: this sets the distance between seats in feet. This will affect how close the passangers are \n",
    "    to each other and thus affect the rate of infection \n",
    "    - num_infected: this is the number of people initially infected\n",
    "    '''\n",
    "    def __init__(self, agent_class, dim_bus, distance_seats,num_infected):\n",
    "        \n",
    "        # mesa required attributes\n",
    "        self.running = True \n",
    "        self.grid = GeoSpace() \n",
    "        self.schedule = BaseScheduler(self) # scheduler dictates model level agent behavior, aka. step function\n",
    "\n",
    "        # variables used for later functions that need descriptions of the model\n",
    "        self.max_columns = (dim_bus[0]+dim_bus[1]+dim_bus[2])*distance_seats\n",
    "        self.max_rows = dim_bus[3]*distance_seats\n",
    "        self.seat_dist = distance_seats\n",
    "        \n",
    "        i = 1\n",
    "        for x in range(0,dim_bus[0]*distance_seats, distance_seats):\n",
    "            for y in range(0,dim_bus[3]*distance_seats, distance_seats):\n",
    "                pnt = Point(x,y)\n",
    "                i += 1\n",
    "                a = agent_class(model=self, shape=pnt, unique_id=\"na\" + str(i))\n",
    "                self.grid.add_agents(a)\n",
    "                self.schedule.add(a)\n",
    "        for x in range((dim_bus[0]+dim_bus[1])*distance_seats,\n",
    "                       (dim_bus[0]+dim_bus[1]+dim_bus[2])*distance_seats, distance_seats):\n",
    "            for y in range(0,dim_bus[3]*distance_seats, distance_seats):\n",
    "                pnt = Point(x,y)\n",
    "                i += 1\n",
    "                a = agent_class(model=self, shape=pnt, unique_id=\"na\" + str(i))\n",
    "                self.grid.add_agents(a)\n",
    "                self.schedule.add(a)\n",
    "        infected_agents = random.sample(self.grid.agents,num_infected)\n",
    "        for i in infected_agents:\n",
    "            i.infected = True\n",
    "            \n",
    "    def step(self):\n",
    "        '''\n",
    "        step function of the model that would essentially call the step function of all agents\n",
    "        '''\n",
    "        self.schedule.step()\n",
    "        self.grid._recreate_rtree() # this is some history remaining issue with the mesa-geo package\n",
    "        # what this does is basically update the new spatial location of the agents to the scheduler deliberately\n",
    "        "
   ]
  },
  {
   "cell_type": "code",
   "execution_count": 50,
   "metadata": {},
   "outputs": [],
   "source": [
    "class NaiveModel(Model):\n",
    "    '''\n",
    "    this class represents the environment that the agents are present in, and the steps are the steps in the \n",
    "    agent based model. There are a few parameters that are included in this class:\n",
    "    - agent_class: this is basically what the agent is, which in our case is the busAgent that we created earlier\n",
    "    - dim_bus: these are the dimensions of the bus. the format is a list: [num_left_columns, num_middle_columns, \n",
    "    num right_columns, num_rows]. There will not be passengers in the middle column; this is simply to provide \n",
    "    some area between passengers (which is realistic amongst the bus).\n",
    "    - distance_seats: this sets the distance between seats in feet. This will affect how close the passangers are \n",
    "    to each other and thus affect the rate of infection \n",
    "    - num_infected: this is the number of people initially infected\n",
    "    '''\n",
    "    def __init__(self, agent_class, num_col_left, num_col_mid, num_col_right, num_row, dist_bw_seats, num_infected, \n",
    "                breath_prob, cough_prob, sneeze_prob, breath_dist, cough_dist, sneeze_dist, prob_infected):\n",
    "        \n",
    "        # mesa required attributes\n",
    "        self.running = True \n",
    "        self.grid = GeoSpace() \n",
    "        self.schedule = BaseScheduler(self) # scheduler dictates model level agent behavior, aka. step function\n",
    "\n",
    "        # variables used for later functions that need descriptions of the model\n",
    "        dim_bus = [num_col_left, num_col_mid, num_col_right, num_row]\n",
    "        self.max_columns = (dim_bus[0]+dim_bus[1]+dim_bus[2])*dist_bw_seats\n",
    "        self.max_rows = dim_bus[3]*dist_bw_seats\n",
    "        self.seat_dist = dist_bw_seats\n",
    "        \n",
    "        i = 1\n",
    "        for x in range(0,dim_bus[0]*dist_bw_seats, dist_bw_seats):\n",
    "            for y in range(0,dim_bus[3]*dist_bw_seats, dist_bw_seats):\n",
    "                pnt = Point(x,y)\n",
    "                i += 1\n",
    "                a = agent_class(model=self, shape=pnt, unique_id=\"na\" + str(i), breath_prob = breath_prob, \n",
    "                                cough_prob = cough_prob, sneeze_prob = sneeze_prob, breath_dist = breath_dist, \n",
    "                                cough_dist = cough_dist, sneeze_dist = sneeze_dist) \n",
    "                self.grid.add_agents(a)\n",
    "                self.schedule.add(a)\n",
    "        for x in range((dim_bus[0]+dim_bus[1])*dist_bw_seats,\n",
    "                       (dim_bus[0]+dim_bus[1]+dim_bus[2])*dist_bw_seats, dist_bw_seats):\n",
    "            for y in range(0,dim_bus[3]*dist_bw_seats, dist_bw_seats):\n",
    "                pnt = Point(x,y)\n",
    "                i += 1\n",
    "                a = agent_class(model=self, shape=pnt, unique_id=\"na\" + str(i), breath_prob = breath_prob, \n",
    "                                cough_prob = cough_prob, sneeze_prob = sneeze_prob, breath_dist = breath_dist, \n",
    "                                cough_dist = cough_dist, sneeze_dist = sneeze_dist) \n",
    "                self.grid.add_agents(a)\n",
    "                self.schedule.add(a)\n",
    "        print(len(self.grid.agents))\n",
    "        infected_agents = random.sample(self.grid.agents,num_infected)\n",
    "        for i in infected_agents:\n",
    "            i.infected = True\n",
    "            \n",
    "    def step(self):\n",
    "        '''\n",
    "        step function of the model that would essentially call the step function of all agents\n",
    "        '''\n",
    "        self.schedule.step()\n",
    "        self.grid._recreate_rtree() # this is some history remaining issue with the mesa-geo package\n",
    "        # what this does is basically update the new spatial location of the agents to the scheduler deliberately\n",
    "        "
   ]
  },
  {
   "cell_type": "code",
   "execution_count": null,
   "metadata": {},
   "outputs": [],
   "source": []
  },
  {
   "cell_type": "code",
   "execution_count": 51,
   "metadata": {},
   "outputs": [
    {
     "name": "stdout",
     "output_type": "stream",
     "text": [
      "1\n"
     ]
    },
    {
     "ename": "ValueError",
     "evalue": "Sample larger than population or is negative",
     "output_type": "error",
     "traceback": [
      "\u001b[0;31m---------------------------------------------------------------------------\u001b[0m",
      "\u001b[0;31mValueError\u001b[0m                                Traceback (most recent call last)",
      "\u001b[0;32m<ipython-input-51-772beb46d1bc>\u001b[0m in \u001b[0;36m<module>\u001b[0;34m\u001b[0m\n\u001b[1;32m      1\u001b[0m \u001b[0;31m# EXAMPLE: say we have a bus with 3 columns on the left, 1 column in between, 2 columns to the right, and 15 rows.\u001b[0m\u001b[0;34m\u001b[0m\u001b[0;34m\u001b[0m\u001b[0;34m\u001b[0m\u001b[0m\n\u001b[1;32m      2\u001b[0m \u001b[0;31m# the distance between the seats is 3 feet, and we're setting 2 people to be initially infected.\u001b[0m\u001b[0;34m\u001b[0m\u001b[0;34m\u001b[0m\u001b[0;34m\u001b[0m\u001b[0m\n\u001b[0;32m----> 3\u001b[0;31m \u001b[0mnmodel\u001b[0m \u001b[0;34m=\u001b[0m \u001b[0mNaiveModel\u001b[0m\u001b[0;34m(\u001b[0m\u001b[0ma\u001b[0m\u001b[0;34m,\u001b[0m \u001b[0;36m3\u001b[0m\u001b[0;34m,\u001b[0m\u001b[0;36m1\u001b[0m\u001b[0;34m,\u001b[0m\u001b[0;36m2\u001b[0m\u001b[0;34m,\u001b[0m\u001b[0;36m15\u001b[0m\u001b[0;34m,\u001b[0m\u001b[0;36m3\u001b[0m\u001b[0;34m,\u001b[0m\u001b[0;36m2\u001b[0m\u001b[0;34m)\u001b[0m\u001b[0;34m\u001b[0m\u001b[0;34m\u001b[0m\u001b[0m\n\u001b[0m\u001b[1;32m      4\u001b[0m \u001b[0mspecific_step_model\u001b[0m\u001b[0;34m(\u001b[0m\u001b[0mnmodel\u001b[0m\u001b[0;34m,\u001b[0m \u001b[0;36m0\u001b[0m\u001b[0;34m)\u001b[0m\u001b[0;34m\u001b[0m\u001b[0;34m\u001b[0m\u001b[0m\n",
      "\u001b[0;32m<ipython-input-50-e85c57eecc25>\u001b[0m in \u001b[0;36m__init__\u001b[0;34m(self, agent, num_col_left, num_col_mid, num_col_right, num_row, dist_bw_seats, num_infected)\u001b[0m\n\u001b[1;32m     47\u001b[0m                 \u001b[0mself\u001b[0m\u001b[0;34m.\u001b[0m\u001b[0mschedule\u001b[0m\u001b[0;34m.\u001b[0m\u001b[0madd\u001b[0m\u001b[0;34m(\u001b[0m\u001b[0ma\u001b[0m\u001b[0;34m)\u001b[0m\u001b[0;34m\u001b[0m\u001b[0;34m\u001b[0m\u001b[0m\n\u001b[1;32m     48\u001b[0m         \u001b[0mprint\u001b[0m\u001b[0;34m(\u001b[0m\u001b[0mlen\u001b[0m\u001b[0;34m(\u001b[0m\u001b[0mself\u001b[0m\u001b[0;34m.\u001b[0m\u001b[0mgrid\u001b[0m\u001b[0;34m.\u001b[0m\u001b[0magents\u001b[0m\u001b[0;34m)\u001b[0m\u001b[0;34m)\u001b[0m\u001b[0;34m\u001b[0m\u001b[0;34m\u001b[0m\u001b[0m\n\u001b[0;32m---> 49\u001b[0;31m         \u001b[0minfected_agents\u001b[0m \u001b[0;34m=\u001b[0m \u001b[0mrandom\u001b[0m\u001b[0;34m.\u001b[0m\u001b[0msample\u001b[0m\u001b[0;34m(\u001b[0m\u001b[0mself\u001b[0m\u001b[0;34m.\u001b[0m\u001b[0mgrid\u001b[0m\u001b[0;34m.\u001b[0m\u001b[0magents\u001b[0m\u001b[0;34m,\u001b[0m\u001b[0mnum_infected\u001b[0m\u001b[0;34m)\u001b[0m\u001b[0;34m\u001b[0m\u001b[0;34m\u001b[0m\u001b[0m\n\u001b[0m\u001b[1;32m     50\u001b[0m         \u001b[0;32mfor\u001b[0m \u001b[0mi\u001b[0m \u001b[0;32min\u001b[0m \u001b[0minfected_agents\u001b[0m\u001b[0;34m:\u001b[0m\u001b[0;34m\u001b[0m\u001b[0;34m\u001b[0m\u001b[0m\n\u001b[1;32m     51\u001b[0m             \u001b[0mi\u001b[0m\u001b[0;34m.\u001b[0m\u001b[0minfected\u001b[0m \u001b[0;34m=\u001b[0m \u001b[0;32mTrue\u001b[0m\u001b[0;34m\u001b[0m\u001b[0;34m\u001b[0m\u001b[0m\n",
      "\u001b[0;32m~/opt/anaconda3/envs/myenv/lib/python3.7/random.py\u001b[0m in \u001b[0;36msample\u001b[0;34m(self, population, k)\u001b[0m\n\u001b[1;32m    319\u001b[0m         \u001b[0mn\u001b[0m \u001b[0;34m=\u001b[0m \u001b[0mlen\u001b[0m\u001b[0;34m(\u001b[0m\u001b[0mpopulation\u001b[0m\u001b[0;34m)\u001b[0m\u001b[0;34m\u001b[0m\u001b[0;34m\u001b[0m\u001b[0m\n\u001b[1;32m    320\u001b[0m         \u001b[0;32mif\u001b[0m \u001b[0;32mnot\u001b[0m \u001b[0;36m0\u001b[0m \u001b[0;34m<=\u001b[0m \u001b[0mk\u001b[0m \u001b[0;34m<=\u001b[0m \u001b[0mn\u001b[0m\u001b[0;34m:\u001b[0m\u001b[0;34m\u001b[0m\u001b[0;34m\u001b[0m\u001b[0m\n\u001b[0;32m--> 321\u001b[0;31m             \u001b[0;32mraise\u001b[0m \u001b[0mValueError\u001b[0m\u001b[0;34m(\u001b[0m\u001b[0;34m\"Sample larger than population or is negative\"\u001b[0m\u001b[0;34m)\u001b[0m\u001b[0;34m\u001b[0m\u001b[0;34m\u001b[0m\u001b[0m\n\u001b[0m\u001b[1;32m    322\u001b[0m         \u001b[0mresult\u001b[0m \u001b[0;34m=\u001b[0m \u001b[0;34m[\u001b[0m\u001b[0;32mNone\u001b[0m\u001b[0;34m]\u001b[0m \u001b[0;34m*\u001b[0m \u001b[0mk\u001b[0m\u001b[0;34m\u001b[0m\u001b[0;34m\u001b[0m\u001b[0m\n\u001b[1;32m    323\u001b[0m         \u001b[0msetsize\u001b[0m \u001b[0;34m=\u001b[0m \u001b[0;36m21\u001b[0m        \u001b[0;31m# size of a small set minus size of an empty list\u001b[0m\u001b[0;34m\u001b[0m\u001b[0;34m\u001b[0m\u001b[0m\n",
      "\u001b[0;31mValueError\u001b[0m: Sample larger than population or is negative"
     ]
    }
   ],
   "source": [
    "# EXAMPLE: say we have a bus with 3 columns on the left, 1 column in between, 2 columns to the right, and 15 rows.\n",
    "# the distance between the seats is 3 feet, and we're setting 2 people to be initially infected. \n",
    "nmodel = NaiveModel(a, 3,1,2,15,3,2)\n",
    "specific_step_model(nmodel, 0)"
   ]
  },
  {
   "cell_type": "markdown",
   "metadata": {},
   "source": [
    "Now we need something to help us visualize the model during each step (or breath)."
   ]
  },
  {
   "cell_type": "code",
   "execution_count": 41,
   "metadata": {},
   "outputs": [],
   "source": [
    "def specific_step_model(model, breath_num): \n",
    "    '''\n",
    "    this function takes in a model and returns the environment at a specific step. It takes in the following \n",
    "    parameters:\n",
    "    - model: the model that is being visually represented\n",
    "    - breath_num: the step that is being represented\n",
    "    '''\n",
    "    nmodel = model\n",
    "    i = 0\n",
    "    for x in range(breath_num):\n",
    "        nmodel.step()\n",
    "        i += 1\n",
    "    agents = nmodel.schedule.agents\n",
    "    infected = gpd.GeoSeries(map(lambda a: a.shape, [agent for agent in agents if agent.infected]))\n",
    "    not_infected = gpd.GeoSeries(map(lambda a: a.shape, [agent for agent in agents if not agent.infected]))\n",
    "    basemap = infected.plot(c=\"red\", label = \"infected\")\n",
    "    not_infected.plot(c=\"green\", label = \"uninfencted\", ax = basemap)\n",
    "    basemap.legend(bbox_to_anchor=(1.05, 1))\n",
    "    basemap.title.set_text('Infections on the Bus: Step '+str(i))\n",
    "    basemap.set_xlabel('Seat Column')\n",
    "    basemap.set_ylabel('Seat Row')\n",
    "    basemap.set_xticks(list(range(0,model.max_columns,model.seat_dist)))\n",
    "    basemap.set_yticks(list(range(0,model.max_rows,model.seat_dist)))"
   ]
  },
  {
   "cell_type": "markdown",
   "metadata": {},
   "source": [
    "We can now test these models and see how we can change the models!"
   ]
  },
  {
   "cell_type": "code",
   "execution_count": 11,
   "metadata": {},
   "outputs": [
    {
     "ename": "TypeError",
     "evalue": "__init__() missing 7 required positional arguments: 'breath_prob', 'cough_prob', 'sneeze_prob', 'breath_dist', 'cough_dist', 'sneeze_dist', and 'prob_infected'",
     "output_type": "error",
     "traceback": [
      "\u001b[0;31m---------------------------------------------------------------------------\u001b[0m",
      "\u001b[0;31mTypeError\u001b[0m                                 Traceback (most recent call last)",
      "\u001b[0;32m<ipython-input-11-c435a9ede6d9>\u001b[0m in \u001b[0;36m<module>\u001b[0;34m\u001b[0m\n\u001b[1;32m      1\u001b[0m \u001b[0;31m# EXAMPLE: say we have a bus with 3 columns on the left, 1 column in between, 2 columns to the right, and 15 rows.\u001b[0m\u001b[0;34m\u001b[0m\u001b[0;34m\u001b[0m\u001b[0;34m\u001b[0m\u001b[0m\n\u001b[1;32m      2\u001b[0m \u001b[0;31m# the distance between the seats is 3 feet, and we're setting 2 people to be initially infected.\u001b[0m\u001b[0;34m\u001b[0m\u001b[0;34m\u001b[0m\u001b[0;34m\u001b[0m\u001b[0m\n\u001b[0;32m----> 3\u001b[0;31m \u001b[0mnmodel\u001b[0m \u001b[0;34m=\u001b[0m \u001b[0mNaiveModel\u001b[0m\u001b[0;34m(\u001b[0m\u001b[0mbusAgent\u001b[0m\u001b[0;34m,\u001b[0m \u001b[0;36m3\u001b[0m\u001b[0;34m,\u001b[0m\u001b[0;36m1\u001b[0m\u001b[0;34m,\u001b[0m\u001b[0;36m2\u001b[0m\u001b[0;34m,\u001b[0m\u001b[0;36m15\u001b[0m\u001b[0;34m,\u001b[0m\u001b[0;36m3\u001b[0m\u001b[0;34m,\u001b[0m\u001b[0;36m2\u001b[0m\u001b[0;34m)\u001b[0m\u001b[0;34m\u001b[0m\u001b[0;34m\u001b[0m\u001b[0m\n\u001b[0m\u001b[1;32m      4\u001b[0m \u001b[0mspecific_step_model\u001b[0m\u001b[0;34m(\u001b[0m\u001b[0mnmodel\u001b[0m\u001b[0;34m,\u001b[0m \u001b[0;36m0\u001b[0m\u001b[0;34m)\u001b[0m\u001b[0;34m\u001b[0m\u001b[0;34m\u001b[0m\u001b[0m\n",
      "\u001b[0;32m<ipython-input-9-496a8505f8e4>\u001b[0m in \u001b[0;36m__init__\u001b[0;34m(self, agent_class, num_col_left, num_col_mid, num_col_right, num_row, dist_bw_seats, num_infected)\u001b[0m\n\u001b[1;32m     29\u001b[0m                 \u001b[0mpnt\u001b[0m \u001b[0;34m=\u001b[0m \u001b[0mPoint\u001b[0m\u001b[0;34m(\u001b[0m\u001b[0mx\u001b[0m\u001b[0;34m,\u001b[0m\u001b[0my\u001b[0m\u001b[0;34m)\u001b[0m\u001b[0;34m\u001b[0m\u001b[0;34m\u001b[0m\u001b[0m\n\u001b[1;32m     30\u001b[0m                 \u001b[0mi\u001b[0m \u001b[0;34m+=\u001b[0m \u001b[0;36m1\u001b[0m\u001b[0;34m\u001b[0m\u001b[0;34m\u001b[0m\u001b[0m\n\u001b[0;32m---> 31\u001b[0;31m                 \u001b[0ma\u001b[0m \u001b[0;34m=\u001b[0m \u001b[0magent_class\u001b[0m\u001b[0;34m(\u001b[0m\u001b[0mmodel\u001b[0m\u001b[0;34m=\u001b[0m\u001b[0mself\u001b[0m\u001b[0;34m,\u001b[0m \u001b[0mshape\u001b[0m\u001b[0;34m=\u001b[0m\u001b[0mpnt\u001b[0m\u001b[0;34m,\u001b[0m \u001b[0munique_id\u001b[0m\u001b[0;34m=\u001b[0m\u001b[0;34m\"na\"\u001b[0m \u001b[0;34m+\u001b[0m \u001b[0mstr\u001b[0m\u001b[0;34m(\u001b[0m\u001b[0mi\u001b[0m\u001b[0;34m)\u001b[0m\u001b[0;34m)\u001b[0m\u001b[0;34m\u001b[0m\u001b[0;34m\u001b[0m\u001b[0m\n\u001b[0m\u001b[1;32m     32\u001b[0m                 \u001b[0mself\u001b[0m\u001b[0;34m.\u001b[0m\u001b[0mgrid\u001b[0m\u001b[0;34m.\u001b[0m\u001b[0madd_agents\u001b[0m\u001b[0;34m(\u001b[0m\u001b[0ma\u001b[0m\u001b[0;34m)\u001b[0m\u001b[0;34m\u001b[0m\u001b[0;34m\u001b[0m\u001b[0m\n\u001b[1;32m     33\u001b[0m                 \u001b[0mself\u001b[0m\u001b[0;34m.\u001b[0m\u001b[0mschedule\u001b[0m\u001b[0;34m.\u001b[0m\u001b[0madd\u001b[0m\u001b[0;34m(\u001b[0m\u001b[0ma\u001b[0m\u001b[0;34m)\u001b[0m\u001b[0;34m\u001b[0m\u001b[0;34m\u001b[0m\u001b[0m\n",
      "\u001b[0;31mTypeError\u001b[0m: __init__() missing 7 required positional arguments: 'breath_prob', 'cough_prob', 'sneeze_prob', 'breath_dist', 'cough_dist', 'sneeze_dist', and 'prob_infected'"
     ]
    }
   ],
   "source": [
    "# EXAMPLE: say we have a bus with 3 columns on the left, 1 column in between, 2 columns to the right, and 15 rows.\n",
    "# the distance between the seats is 3 feet, and we're setting 2 people to be initially infected. \n",
    "nmodel = NaiveModel(busAgent, 3,1,2,15,3,2)\n",
    "specific_step_model(nmodel, 0)"
   ]
  },
  {
   "cell_type": "code",
   "execution_count": 534,
   "metadata": {},
   "outputs": [
    {
     "data": {
      "image/png": "[encoded data removed]",
      "text/plain": [
       "<Figure size 432x288 with 1 Axes>"
      ]
     },
     "metadata": {
      "needs_background": "light"
     },
     "output_type": "display_data"
    }
   ],
   "source": [
    "# EXAMPLE: say we have a bus with 2 columns on the left, 2 column in between, 2 columns to the right, and 10 rows.\n",
    "# the distance between the seats is 1 foot, and we're setting 5 people to be initially infected. \n",
    "nmodel = NaiveModel(busAgent, [2,2,2,10],1,5)\n",
    "specific_step_model(nmodel, 0)"
   ]
  },
  {
   "cell_type": "markdown",
   "metadata": {},
   "source": [
    "We're interested to see how the model looks over time, so we wrote some code that helps us see each step."
   ]
  },
  {
   "cell_type": "code",
   "execution_count": 535,
   "metadata": {},
   "outputs": [],
   "source": [
    "def visualize_step_model(model, num_breathes): \n",
    "    '''\n",
    "    a method that helps us visualize multiple steps of the model.\n",
    "    - model: the model that is being visualized\n",
    "    - num-breathes: the numbers of steps that you want visualized. This method will display steps 0 all the way\n",
    "    until num_breathes\n",
    "    '''\n",
    "    nmodel = model\n",
    "    agents = nmodel.schedule.agents\n",
    "    infected = gpd.GeoSeries(map(lambda a: a.shape, [agent for agent in agents if agent.infected]))\n",
    "    not_infected = gpd.GeoSeries(map(lambda a: a.shape, [agent for agent in agents if not agent.infected]))\n",
    "    basemap = infected.plot(c=\"red\", label = \"infected\")\n",
    "    not_infected.plot(c=\"green\", label = \"uninfencted\", ax = basemap)\n",
    "    basemap.legend(bbox_to_anchor=(1.05, 1))\n",
    "    basemap.title.set_text('Infections on the Bus: Step 0')\n",
    "    basemap.set_xlabel('Seat Column')\n",
    "    basemap.set_ylabel('Seat Row')\n",
    "    basemap.set_xticks(list(range(0,model.max_columns,model.seat_dist)))\n",
    "    basemap.set_yticks(list(range(0,model.max_rows,model.seat_dist)))\n",
    "    for x in range(num_breathes):\n",
    "        nmodel.step()\n",
    "        agents = nmodel.schedule.agents\n",
    "        infected = gpd.GeoSeries(map(lambda a: a.shape, [agent for agent in agents if agent.infected]))\n",
    "        not_infected = gpd.GeoSeries(map(lambda a: a.shape, [agent for agent in agents if not agent.infected]))\n",
    "        basemap = infected.plot(c=\"red\", label = \"infected\")\n",
    "        not_infected.plot(c=\"green\", label = \"uninfencted\", ax = basemap)\n",
    "        basemap.legend(bbox_to_anchor=(1.05, 1))\n",
    "        basemap.title.set_text('Infections on the Bus: Step '+ str(x+1))\n",
    "        basemap.set_xlabel('Seat Column')\n",
    "        basemap.set_ylabel('Seat Row')\n",
    "        basemap.set_xticks(list(range(0,model.max_columns,model.seat_dist)))\n",
    "        basemap.set_yticks(list(range(0,model.max_rows,model.seat_dist)))"
   ]
  },
  {
   "cell_type": "markdown",
   "metadata": {},
   "source": [
    "lets take a look at an example:"
   ]
  },
  {
   "cell_type": "code",
   "execution_count": 536,
   "metadata": {},
   "outputs": [
    {
     "data": {
      "image/png": "[encoded data removed]",
      "text/plain": [
       "<Figure size 432x288 with 1 Axes>"
      ]
     },
     "metadata": {
      "needs_background": "light"
     },
     "output_type": "display_data"
    },
    {
     "data": {
      "image/png": "[encoded data removed]",
      "text/plain": [
       "<Figure size 432x288 with 1 Axes>"
      ]
     },
     "metadata": {
      "needs_background": "light"
     },
     "output_type": "display_data"
    },
    {
     "data": {
      "image/png": "[encoded data removed]",
      "text/plain": [
       "<Figure size 432x288 with 1 Axes>"
      ]
     },
     "metadata": {
      "needs_background": "light"
     },
     "output_type": "display_data"
    },
    {
     "data": {
      "image/png": "[encoded data removed]",
      "text/plain": [
       "<Figure size 432x288 with 1 Axes>"
      ]
     },
     "metadata": {
      "needs_background": "light"
     },
     "output_type": "display_data"
    },
    {
     "data": {
      "image/png": "[encoded data removed]",
      "text/plain": [
       "<Figure size 432x288 with 1 Axes>"
      ]
     },
     "metadata": {
      "needs_background": "light"
     },
     "output_type": "display_data"
    },
    {
     "data": {
      "image/png": "[encoded data removed]",
      "text/plain": [
       "<Figure size 432x288 with 1 Axes>"
      ]
     },
     "metadata": {
      "needs_background": "light"
     },
     "output_type": "display_data"
    }
   ],
   "source": [
    "# EXAMPLE: say we have a bus with 3 columns on the left, 1 column in between, 2 columns to the right, and 15 rows.\n",
    "# the distance between the seats is 3 feet, and we're setting 2 people to be initially infected. \n",
    "\n",
    "# we are then going to run a model for 5 'action moments'\n",
    "nmodel = NaiveModel(busAgent, [3,1,2,15],3,2)\n",
    "visualize_step_model(nmodel, 5)"
   ]
  },
  {
   "cell_type": "markdown",
   "metadata": {},
   "source": [
    "Sometimes we want to see a bunch of steps but we can't just scroll and see so many plots. Therefore we decided to make a function that also allows us to timelapse the model for a certain number of steps. "
   ]
  },
  {
   "cell_type": "code",
   "execution_count": 537,
   "metadata": {},
   "outputs": [],
   "source": [
    "def timelapse_step_model(model, num_breathes): \n",
    "    '''\n",
    "    function that lets us timelpase the model. We are assuming that there is a simulation_images folder that allows\n",
    "    you to save all the images. IT IS BEST TO ONLY RUN THIS FUNCTION ONCE AND THEN CLEAR THE FOLDER OF ALL THE IMAGES.\n",
    "    The final model will be saved as 'gif_of_model.png'. An example gif can be found in the visualization folder.\n",
    "    - model: the model that is being visualized\n",
    "    - num-breathes: the numbers of steps that you want visualized. This method will display steps 0 all the way\n",
    "    until num_breathes\n",
    "    '''\n",
    "    nmodel = model\n",
    "    agents = nmodel.schedule.agents\n",
    "    infected = gpd.GeoSeries(map(lambda a: a.shape, [agent for agent in agents if agent.infected]))\n",
    "    not_infected = gpd.GeoSeries(map(lambda a: a.shape, [agent for agent in agents if not agent.infected]))\n",
    "    basemap = infected.plot(c=\"red\", label = \"infected\")\n",
    "    not_infected.plot(c=\"green\", label = \"uninfencted\", ax = basemap)\n",
    "    basemap.legend(bbox_to_anchor=(1.05, 1))\n",
    "    basemap.title.set_text('Infections on the Bus: Step 0')\n",
    "    basemap.set_xlabel('Seat Column')\n",
    "    basemap.set_ylabel('Seat Row')\n",
    "    basemap.set_xticks(list(range(0,model.max_columns,model.seat_dist)))\n",
    "    basemap.set_yticks(list(range(0,model.max_rows,model.seat_dist)))\n",
    "    basemap.get_figure().savefig('simulation_images/0.png', bbox_inches='tight')\n",
    "    pyplot.close(basemap.get_figure())\n",
    "    for x in range(num_breathes):\n",
    "        nmodel.step()\n",
    "        agents = nmodel.schedule.agents\n",
    "        infected = gpd.GeoSeries(map(lambda a: a.shape, [agent for agent in agents if agent.infected]))\n",
    "        not_infected = gpd.GeoSeries(map(lambda a: a.shape, [agent for agent in agents if not agent.infected]))\n",
    "        basemap = infected.plot(c=\"red\", label = \"infected\")\n",
    "        not_infected.plot(c=\"green\", label = \"uninfencted\", ax = basemap)\n",
    "        basemap.legend(bbox_to_anchor=(1.05, 1))\n",
    "        basemap.title.set_text('Infections on the Bus: Step '+ str(x+1))\n",
    "        basemap.set_xlabel('Seat Column')\n",
    "        basemap.set_ylabel('Seat Row')\n",
    "        basemap.set_xticks(list(range(0,model.max_columns,model.seat_dist)))\n",
    "        basemap.set_yticks(list(range(0,model.max_rows,model.seat_dist)))\n",
    "        basemap.get_figure().savefig('simulation_images/'+str(x+1)+'.png', bbox_inches='tight')\n",
    "        pyplot.close(basemap.get_figure())\n",
    "    frames = []\n",
    "    imgs = glob.glob(\"simulation_images/*.png\")\n",
    "    filler_list = []\n",
    "    for i in imgs: \n",
    "        filler_list.append(re.findall('\\d+', i)[0])\n",
    "    filler_list.sort(key = int)\n",
    "    for i in range(len(filler_list)):\n",
    "        filler_list[i] = 'simulation_images/'+filler_list[i]+'.png'\n",
    "\n",
    "    for i in filler_list:\n",
    "        new_frame = Image.open(i)\n",
    "        frames.append(new_frame)\n",
    "\n",
    "    # Save into a GIF file that loops forever\n",
    "    frames[0].save('gif_of_model.gif', format='GIF',\n",
    "                   append_images=frames[1:],\n",
    "                   save_all=True,\n",
    "                   duration=300, loop=0)"
   ]
  },
  {
   "cell_type": "code",
   "execution_count": 539,
   "metadata": {},
   "outputs": [],
   "source": [
    "# EXAMPLE: say we have a bus with 3 columns on the left, 1 column in between, 2 columns to the right, and 15 rows.\n",
    "# the distance between the seats is 3 feet, and we're setting 2 people to be initially infected. \n",
    "\n",
    "# we are then going to run a model for 5 'action moments'\n",
    "nmodel = NaiveModel(busAgent, [3,1,2,15],3,2)\n",
    "timelapse_step_model(nmodel, 5)"
   ]
  }
 ],
 "metadata": {
  "kernelspec": {
   "display_name": "Python 3",
   "language": "python",
   "name": "python3"
  },
  "language_info": {
   "codemirror_mode": {
    "name": "ipython",
    "version": 3
   },
   "file_extension": ".py",
   "mimetype": "text/x-python",
   "name": "python",
   "nbconvert_exporter": "python",
   "pygments_lexer": "ipython3",
   "version": "3.7.9"
  }
 },
 "nbformat": 4,
 "nbformat_minor": 4
}
